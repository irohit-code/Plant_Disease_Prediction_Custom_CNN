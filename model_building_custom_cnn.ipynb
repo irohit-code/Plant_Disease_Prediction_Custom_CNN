{
 "cells": [
  {
   "cell_type": "code",
   "execution_count": 1,
   "id": "172f0b8a",
   "metadata": {},
   "outputs": [],
   "source": [
    "import torch\n",
    "import torch.nn as nn\n",
    "import torch.optim as optim\n",
    "from torch.optim.lr_scheduler import ReduceLROnPlateau\n",
    "from torchvision import datasets, transforms\n",
    "from torch.utils.data import DataLoader\n",
    "from pathlib import Path\n",
    "import os\n",
    "import csv\n"
   ]
  },
  {
   "cell_type": "code",
   "execution_count": 2,
   "id": "1d39ee97",
   "metadata": {},
   "outputs": [
    {
     "name": "stdout",
     "output_type": "stream",
     "text": [
      "✅ Using: cuda\n"
     ]
    }
   ],
   "source": [
    "device = torch.device(\"cuda\" if torch.cuda.is_available() else \"cpu\")\n",
    "print(\"✅ Using:\", device)\n",
    "\n",
    "# Dataset paths\n",
    "train_dir = r\"D:\\My Projects\\Plant_Disease_Prediction_Custom_CNN\\dataset_split\\train\"\n",
    "val_dir = r\"D:\\My Projects\\Plant_Disease_Prediction_Custom_CNN\\dataset_split\\val\"\n",
    "test_dir = r\"D:\\My Projects\\Plant_Disease_Prediction_Custom_CNN\\dataset_split\\test\"\n",
    "\n",
    "# Class names\n",
    "classes = sorted([d.name for d in Path(train_dir).iterdir()])\n",
    "num_classes = len(classes)\n"
   ]
  },
  {
   "cell_type": "code",
   "execution_count": 3,
   "id": "3b298b4c",
   "metadata": {},
   "outputs": [],
   "source": [
    "mean = [0.485, 0.456, 0.406]\n",
    "std = [0.229, 0.224, 0.225]\n",
    "\n",
    "train_transforms = transforms.Compose([\n",
    "    transforms.Resize((224, 224)),\n",
    "    transforms.RandomHorizontalFlip(),\n",
    "    transforms.RandomRotation(10),\n",
    "    transforms.ToTensor(),\n",
    "    transforms.Normalize(mean, std)\n",
    "])\n",
    "\n",
    "val_test_transforms = transforms.Compose([\n",
    "    transforms.Resize((224, 224)),\n",
    "    transforms.ToTensor(),\n",
    "    transforms.Normalize(mean, std)\n",
    "])\n",
    "\n",
    "train_dataset = datasets.ImageFolder(train_dir, transform=train_transforms)\n",
    "val_dataset = datasets.ImageFolder(val_dir, transform=val_test_transforms)\n",
    "test_dataset = datasets.ImageFolder(test_dir, transform=val_test_transforms)\n",
    "\n",
    "train_loader = DataLoader(train_dataset, batch_size=64, shuffle=True, num_workers=2)\n",
    "val_loader = DataLoader(val_dataset, batch_size=64, shuffle=False, num_workers=2)\n",
    "test_loader = DataLoader(test_dataset, batch_size=64, shuffle=False, num_workers=2)\n"
   ]
  },
  {
   "cell_type": "code",
   "execution_count": 4,
   "id": "5bd6cc96",
   "metadata": {},
   "outputs": [],
   "source": [
    "class CustomCNN(nn.Module):\n",
    "    def __init__(self, num_classes):\n",
    "        super(CustomCNN, self).__init__()\n",
    "        self.features = nn.Sequential(\n",
    "            nn.Conv2d(3, 32, kernel_size=3, padding=1),\n",
    "            nn.BatchNorm2d(32),\n",
    "            nn.ReLU(),\n",
    "            nn.Conv2d(32, 32, kernel_size=3, padding=1),\n",
    "            nn.BatchNorm2d(32),\n",
    "            nn.ReLU(),\n",
    "            nn.MaxPool2d(2),\n",
    "            nn.Dropout(0.25),\n",
    "\n",
    "            nn.Conv2d(32, 64, kernel_size=3, padding=1),\n",
    "            nn.BatchNorm2d(64),\n",
    "            nn.ReLU(),\n",
    "            nn.Conv2d(64, 64, kernel_size=3, padding=1),\n",
    "            nn.BatchNorm2d(64),\n",
    "            nn.ReLU(),\n",
    "            nn.MaxPool2d(2),\n",
    "            nn.Dropout(0.25),\n",
    "\n",
    "            nn.Conv2d(64, 128, kernel_size=3, padding=1),\n",
    "            nn.BatchNorm2d(128),\n",
    "            nn.ReLU(),\n",
    "            nn.MaxPool2d(2),\n",
    "            nn.Dropout(0.3)\n",
    "        )\n",
    "\n",
    "        self.classifier = nn.Sequential(\n",
    "            nn.Flatten(),\n",
    "            nn.Linear(128 * 28 * 28, 512),\n",
    "            nn.BatchNorm1d(512),\n",
    "            nn.ReLU(),\n",
    "            nn.Dropout(0.5),\n",
    "            nn.Linear(512, num_classes)\n",
    "        )\n",
    "\n",
    "    def forward(self, x):\n",
    "        x = self.features(x)\n",
    "        x = self.classifier(x)\n",
    "        return x\n",
    "\n",
    "model = CustomCNN(num_classes).to(device)\n"
   ]
  },
  {
   "cell_type": "code",
   "execution_count": 5,
   "id": "f34e3a15",
   "metadata": {},
   "outputs": [],
   "source": [
    "def save_checkpoint(model, optimizer, epoch, path=\"checkpoints\"):\n",
    "    os.makedirs(path, exist_ok=True)\n",
    "    torch.save({\n",
    "        \"epoch\": epoch,\n",
    "        \"model_state_dict\": model.state_dict(),\n",
    "        \"optimizer_state_dict\": optimizer.state_dict()\n",
    "    }, f\"{path}/checkpoint_epoch_{epoch}.pth\")\n",
    "\n",
    "def load_latest_checkpoint(model, optimizer, path=\"checkpoints\"):\n",
    "    if not os.path.exists(path):\n",
    "        return 0\n",
    "    checkpoints = [f for f in os.listdir(path) if f.startswith(\"checkpoint_epoch_\")]\n",
    "    if not checkpoints:\n",
    "        return 0\n",
    "    latest = max(checkpoints, key=lambda x: int(x.split(\"_\")[-1].split(\".\")[0]))\n",
    "    checkpoint = torch.load(os.path.join(path, latest))\n",
    "    model.load_state_dict(checkpoint[\"model_state_dict\"])\n",
    "    optimizer.load_state_dict(checkpoint[\"optimizer_state_dict\"])\n",
    "    print(f\"🔁 Resumed from {latest}\")\n",
    "    return checkpoint[\"epoch\"]\n"
   ]
  },
  {
   "cell_type": "code",
   "execution_count": 6,
   "id": "6a1a55d5",
   "metadata": {},
   "outputs": [],
   "source": [
    "def train_model(model, train_loader, val_loader, criterion, optimizer, scheduler, epochs=50, patience=5):\n",
    "    start_epoch = load_latest_checkpoint(model, optimizer)\n",
    "    best_val_acc = 0.0\n",
    "    epochs_no_improve = 0\n",
    "\n",
    "    os.makedirs(\"logs\", exist_ok=True)\n",
    "    log_path = \"logs/training_log.csv\"\n",
    "    if start_epoch == 0:\n",
    "        with open(log_path, \"w\", newline=\"\") as f:\n",
    "            writer = csv.writer(f)\n",
    "            writer.writerow([\"epoch\", \"train_loss\", \"train_acc\", \"val_loss\", \"val_acc\"])\n",
    "\n",
    "    for epoch in range(start_epoch, epochs):\n",
    "        model.train()\n",
    "        running_loss, correct, total = 0.0, 0, 0\n",
    "\n",
    "        for images, labels in train_loader:\n",
    "            images, labels = images.to(device), labels.to(device)\n",
    "            optimizer.zero_grad()\n",
    "            outputs = model(images)\n",
    "            loss = criterion(outputs, labels)\n",
    "            loss.backward()\n",
    "            optimizer.step()\n",
    "\n",
    "            running_loss += loss.item()\n",
    "            _, preds = torch.max(outputs, 1)\n",
    "            correct += (preds == labels).sum().item()\n",
    "            total += labels.size(0)\n",
    "\n",
    "        train_loss = running_loss / len(train_loader)\n",
    "        train_acc = correct / total\n",
    "\n",
    "        # Validation\n",
    "        model.eval()\n",
    "        val_loss, val_correct, val_total = 0.0, 0, 0\n",
    "        with torch.no_grad():\n",
    "            for images, labels in val_loader:\n",
    "                images, labels = images.to(device), labels.to(device)\n",
    "                outputs = model(images)\n",
    "                loss = criterion(outputs, labels)\n",
    "                val_loss += loss.item()\n",
    "                _, preds = torch.max(outputs, 1)\n",
    "                val_correct += (preds == labels).sum().item()\n",
    "                val_total += labels.size(0)\n",
    "\n",
    "        val_loss /= len(val_loader)\n",
    "        val_acc = val_correct / val_total\n",
    "        scheduler.step(val_loss)\n",
    "\n",
    "        print(f\"📘 Epoch {epoch+1}/{epochs} | Train Loss: {train_loss:.4f}, Acc: {train_acc:.4f} | \"\n",
    "              f\"Val Loss: {val_loss:.4f}, Acc: {val_acc:.4f}\")\n",
    "\n",
    "        with open(log_path, \"a\", newline=\"\") as f:\n",
    "            writer = csv.writer(f)\n",
    "            writer.writerow([epoch + 1, train_loss, train_acc, val_loss, val_acc])\n",
    "\n",
    "        save_checkpoint(model, optimizer, epoch + 1)\n",
    "\n",
    "        if val_acc > best_val_acc:\n",
    "            best_val_acc = val_acc\n",
    "            torch.save(model.state_dict(), \"best_custom_cnn.pth\")\n",
    "            epochs_no_improve = 0\n",
    "        else:\n",
    "            epochs_no_improve += 1\n",
    "\n",
    "        if epochs_no_improve >= patience:\n",
    "            print(f\"⏹️ Early stopping triggered at epoch {epoch+1}\")\n",
    "            break\n",
    "\n",
    "    print(f\"\\n✅ Best Validation Accuracy: {best_val_acc:.4f}\")\n"
   ]
  },
  {
   "cell_type": "code",
   "execution_count": 7,
   "id": "e4bef5a1",
   "metadata": {},
   "outputs": [
    {
     "name": "stderr",
     "output_type": "stream",
     "text": [
      "d:\\Software\\Anaconda\\envs\\pytorch-gpu\\lib\\site-packages\\torch\\optim\\lr_scheduler.py:62: UserWarning: The verbose parameter is deprecated. Please use get_last_lr() to access the learning rate.\n",
      "  warnings.warn(\n"
     ]
    }
   ],
   "source": [
    "criterion = nn.CrossEntropyLoss()\n",
    "optimizer = optim.Adam(model.parameters(), lr=0.001)\n",
    "scheduler = ReduceLROnPlateau(optimizer, mode='min', factor=0.5, patience=2, verbose=True)"
   ]
  },
  {
   "cell_type": "code",
   "execution_count": 8,
   "id": "46aaa877",
   "metadata": {},
   "outputs": [
    {
     "name": "stdout",
     "output_type": "stream",
     "text": [
      "📘 Epoch 1/50 | Train Loss: 0.7405, Acc: 0.7713 | Val Loss: 0.5927, Acc: 0.7870\n",
      "📘 Epoch 2/50 | Train Loss: 0.3991, Acc: 0.8713 | Val Loss: 0.4337, Acc: 0.8564\n",
      "📘 Epoch 3/50 | Train Loss: 0.3061, Acc: 0.9005 | Val Loss: 0.2931, Acc: 0.8957\n",
      "📘 Epoch 4/50 | Train Loss: 0.2465, Acc: 0.9201 | Val Loss: 0.2806, Acc: 0.9015\n",
      "📘 Epoch 5/50 | Train Loss: 0.1943, Acc: 0.9357 | Val Loss: 0.2426, Acc: 0.9153\n",
      "📘 Epoch 6/50 | Train Loss: 0.1748, Acc: 0.9428 | Val Loss: 0.1991, Acc: 0.9326\n",
      "📘 Epoch 7/50 | Train Loss: 0.1524, Acc: 0.9485 | Val Loss: 0.1368, Acc: 0.9527\n",
      "📘 Epoch 8/50 | Train Loss: 0.1365, Acc: 0.9547 | Val Loss: 0.1294, Acc: 0.9563\n",
      "📘 Epoch 9/50 | Train Loss: 0.1287, Acc: 0.9569 | Val Loss: 0.1351, Acc: 0.9532\n",
      "📘 Epoch 10/50 | Train Loss: 0.1202, Acc: 0.9593 | Val Loss: 0.1721, Acc: 0.9423\n",
      "📘 Epoch 11/50 | Train Loss: 0.1031, Acc: 0.9668 | Val Loss: 0.0964, Acc: 0.9660\n",
      "📘 Epoch 12/50 | Train Loss: 0.1040, Acc: 0.9640 | Val Loss: 0.1335, Acc: 0.9515\n",
      "📘 Epoch 13/50 | Train Loss: 0.0998, Acc: 0.9663 | Val Loss: 0.0952, Acc: 0.9702\n",
      "📘 Epoch 14/50 | Train Loss: 0.0804, Acc: 0.9740 | Val Loss: 0.1121, Acc: 0.9605\n",
      "📘 Epoch 15/50 | Train Loss: 0.0767, Acc: 0.9752 | Val Loss: 0.0954, Acc: 0.9658\n",
      "📘 Epoch 16/50 | Train Loss: 0.0711, Acc: 0.9761 | Val Loss: 0.1023, Acc: 0.9648\n",
      "📘 Epoch 17/50 | Train Loss: 0.0479, Acc: 0.9843 | Val Loss: 0.0754, Acc: 0.9748\n",
      "📘 Epoch 18/50 | Train Loss: 0.0404, Acc: 0.9869 | Val Loss: 0.0727, Acc: 0.9779\n",
      "📘 Epoch 19/50 | Train Loss: 0.0325, Acc: 0.9907 | Val Loss: 0.0820, Acc: 0.9711\n",
      "📘 Epoch 20/50 | Train Loss: 0.0375, Acc: 0.9871 | Val Loss: 0.0590, Acc: 0.9779\n",
      "📘 Epoch 21/50 | Train Loss: 0.0357, Acc: 0.9888 | Val Loss: 0.0593, Acc: 0.9784\n",
      "📘 Epoch 22/50 | Train Loss: 0.0334, Acc: 0.9893 | Val Loss: 0.0837, Acc: 0.9716\n",
      "📘 Epoch 23/50 | Train Loss: 0.0300, Acc: 0.9902 | Val Loss: 0.0597, Acc: 0.9779\n",
      "📘 Epoch 24/50 | Train Loss: 0.0226, Acc: 0.9932 | Val Loss: 0.0527, Acc: 0.9803\n",
      "📘 Epoch 25/50 | Train Loss: 0.0186, Acc: 0.9951 | Val Loss: 0.0471, Acc: 0.9857\n",
      "📘 Epoch 26/50 | Train Loss: 0.0183, Acc: 0.9947 | Val Loss: 0.0540, Acc: 0.9825\n",
      "📘 Epoch 27/50 | Train Loss: 0.0157, Acc: 0.9956 | Val Loss: 0.0501, Acc: 0.9845\n",
      "📘 Epoch 28/50 | Train Loss: 0.0167, Acc: 0.9956 | Val Loss: 0.0918, Acc: 0.9677\n",
      "📘 Epoch 29/50 | Train Loss: 0.0146, Acc: 0.9963 | Val Loss: 0.0462, Acc: 0.9833\n",
      "📘 Epoch 30/50 | Train Loss: 0.0136, Acc: 0.9960 | Val Loss: 0.0427, Acc: 0.9854\n",
      "⏹️ Early stopping triggered at epoch 30\n",
      "\n",
      "✅ Best Validation Accuracy: 0.9857\n"
     ]
    }
   ],
   "source": [
    "train_model(model, train_loader, val_loader, criterion, optimizer, scheduler, epochs=50, patience=5)\n"
   ]
  },
  {
   "cell_type": "code",
   "execution_count": 9,
   "id": "3a7b7273",
   "metadata": {},
   "outputs": [
    {
     "name": "stderr",
     "output_type": "stream",
     "text": [
      "C:\\Users\\coder\\AppData\\Local\\Temp\\ipykernel_15760\\3244498227.py:15: FutureWarning: You are using `torch.load` with `weights_only=False` (the current default value), which uses the default pickle module implicitly. It is possible to construct malicious pickle data which will execute arbitrary code during unpickling (See https://github.com/pytorch/pytorch/blob/main/SECURITY.md#untrusted-models for more details). In a future release, the default value for `weights_only` will be flipped to `True`. This limits the functions that could be executed during unpickling. Arbitrary objects will no longer be allowed to be loaded via this mode unless they are explicitly allowlisted by the user via `torch.serialization.add_safe_globals`. We recommend you start setting `weights_only=True` for any use case where you don't have full control of the loaded file. Please open an issue on GitHub for any issues related to this experimental feature.\n",
      "  model.load_state_dict(torch.load(\"best_custom_cnn.pth\"))\n"
     ]
    },
    {
     "name": "stdout",
     "output_type": "stream",
     "text": [
      "🎯 Test Accuracy: 0.9831\n"
     ]
    }
   ],
   "source": [
    "def evaluate(model, test_loader):\n",
    "    model.eval()\n",
    "    correct, total = 0, 0\n",
    "    with torch.no_grad():\n",
    "        for images, labels in test_loader:\n",
    "            images, labels = images.to(device), labels.to(device)\n",
    "            outputs = model(images)\n",
    "            _, preds = torch.max(outputs, 1)\n",
    "            correct += (preds == labels).sum().item()\n",
    "            total += labels.size(0)\n",
    "    test_acc = correct / total\n",
    "    print(f\"🎯 Test Accuracy: {test_acc:.4f}\")\n",
    "\n",
    "# Load and evaluate best model\n",
    "model.load_state_dict(torch.load(\"best_custom_cnn.pth\"))\n",
    "evaluate(model, test_loader)\n"
   ]
  }
 ],
 "metadata": {
  "kernelspec": {
   "display_name": "pytorch-gpu",
   "language": "python",
   "name": "python3"
  },
  "language_info": {
   "codemirror_mode": {
    "name": "ipython",
    "version": 3
   },
   "file_extension": ".py",
   "mimetype": "text/x-python",
   "name": "python",
   "nbconvert_exporter": "python",
   "pygments_lexer": "ipython3",
   "version": "3.10.17"
  }
 },
 "nbformat": 4,
 "nbformat_minor": 5
}
