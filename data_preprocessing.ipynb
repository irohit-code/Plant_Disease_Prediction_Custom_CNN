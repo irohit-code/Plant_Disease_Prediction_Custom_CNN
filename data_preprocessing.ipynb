{
 "cells": [
  {
   "cell_type": "code",
   "execution_count": 1,
   "id": "40dea2b5",
   "metadata": {},
   "outputs": [],
   "source": [
    "import os\n",
    "import shutil\n",
    "import random\n",
    "from pathlib import Path\n",
    "\n",
    "from torchvision import transforms, datasets\n",
    "from torch.utils.data import DataLoader\n",
    "\n",
    "import torch"
   ]
  },
  {
   "cell_type": "code",
   "execution_count": 5,
   "id": "e04e30cd",
   "metadata": {},
   "outputs": [
    {
     "name": "stdout",
     "output_type": "stream",
     "text": [
      "✅ Dataset split into train / val / test\n"
     ]
    }
   ],
   "source": [
    "original_dataset_dir = Path(\"dataset/PlantVillage\")\n",
    "split_dataset_dir = Path(\"dataset_split\")  # Output folder\n",
    "\n",
    "if split_dataset_dir.exists():\n",
    "    shutil.rmtree(split_dataset_dir)\n",
    "split_dataset_dir.mkdir(parents=True)\n",
    "\n",
    "# Set seed for reproducibility\n",
    "random.seed(42)\n",
    "\n",
    "def split_dataset(src_dir, dst_dir, train_ratio=0.7, val_ratio=0.2, test_ratio=0.1):\n",
    "    assert abs(train_ratio + val_ratio + test_ratio - 1.0) < 1e-6\n",
    "\n",
    "\n",
    "    for class_dir in src_dir.iterdir():\n",
    "        if not class_dir.is_dir():\n",
    "            continue\n",
    "\n",
    "        images = list(class_dir.glob(\"*.*\"))\n",
    "        random.shuffle(images)\n",
    "\n",
    "        n = len(images)\n",
    "        n_train = int(n * train_ratio)\n",
    "        n_val = int(n * val_ratio)\n",
    "\n",
    "        splits = {\n",
    "            \"train\": images[:n_train],\n",
    "            \"val\": images[n_train:n_train+n_val],\n",
    "            \"test\": images[n_train+n_val:]\n",
    "        }\n",
    "\n",
    "        for split, files in splits.items():\n",
    "            split_class_dir = dst_dir / split / class_dir.name\n",
    "            split_class_dir.mkdir(parents=True, exist_ok=True)\n",
    "            for img_path in files:\n",
    "                shutil.copy(img_path, split_class_dir / img_path.name)\n",
    "\n",
    "    print(\"✅ Dataset split into train / val / test\")\n",
    "\n",
    "split_dataset(original_dataset_dir, split_dataset_dir)"
   ]
  }
 ],
 "metadata": {
  "kernelspec": {
   "display_name": "pytorch-gpu",
   "language": "python",
   "name": "python3"
  },
  "language_info": {
   "codemirror_mode": {
    "name": "ipython",
    "version": 3
   },
   "file_extension": ".py",
   "mimetype": "text/x-python",
   "name": "python",
   "nbconvert_exporter": "python",
   "pygments_lexer": "ipython3",
   "version": "3.10.17"
  }
 },
 "nbformat": 4,
 "nbformat_minor": 5
}
